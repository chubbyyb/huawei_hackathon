{
 "cells": [
  {
   "cell_type": "markdown",
   "metadata": {},
   "source": []
  },
  {
   "cell_type": "code",
   "execution_count": 5,
   "metadata": {},
   "outputs": [
    {
     "name": "stdout",
     "output_type": "stream",
     "text": [
      "[('pre_ranking_filter_log',), ('pre_ranking_filter_key_mapping',), ('predicted_metric_log',), ('real_metric_log',), ('request_log',)]\n"
     ]
    }
   ],
   "source": [
    "import sqlite3\n",
    "\n",
    "\n",
    "class Data_analyst:\n",
    "    def __init__(self):\n",
    "        self.db = None\n",
    "        self.tables = []\n",
    "        self.query = \"\"\n",
    "        self.table_id = \"\"\n",
    "        self.sql = \"\"\n",
    "\n",
    "    def connect(self, db_path):\n",
    "        self.db = sqlite3.connect(db_path)\n",
    "        self.tables = self.init_tables()\n",
    "\n",
    "    def identify_table(self, tables):\n",
    "        q = self.query\n",
    "        query_hash_map = {}\n",
    "        possible_tables = []\n",
    "        for word in q.split(\" \"):\n",
    "            if query_hash_map[word]:\n",
    "                query_hash_map[word] += 1\n",
    "            else:\n",
    "                query_hash_map[word] = 1\n",
    "        \n",
    "        for word in query_hash_map:\n",
    "            for table in self.tables:\n",
    "                if word == table:\n",
    "                    possible_tables.append(table)\n",
    "\n",
    "            \n",
    "\n",
    "\n",
    "        return 0\n",
    "\n",
    "    def init_tables(self):\n",
    "        return self.db.execute(\"SELECT name FROM sqlite_master WHERE type='table';\").fetchall()\n",
    "    \n",
    "    def check_tables_for_1(self, tables):\n",
    "        if len(tables) == 1:\n",
    "            self.table_id = tables[0][0]\n",
    "            return True\n",
    "        self.identify_table(self.prompt, self.tables)\n",
    "\n",
    "\n",
    "    \n",
    "\n"
   ]
  }
 ],
 "metadata": {
  "kernelspec": {
   "display_name": "Python 3",
   "language": "python",
   "name": "python3"
  },
  "language_info": {
   "codemirror_mode": {
    "name": "ipython",
    "version": 3
   },
   "file_extension": ".py",
   "mimetype": "text/x-python",
   "name": "python",
   "nbconvert_exporter": "python",
   "pygments_lexer": "ipython3",
   "version": "3.11.1"
  },
  "orig_nbformat": 4
 },
 "nbformat": 4,
 "nbformat_minor": 2
}
